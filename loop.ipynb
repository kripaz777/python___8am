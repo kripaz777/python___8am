{
 "cells": [
  {
   "cell_type": "code",
   "execution_count": 1,
   "id": "167db5ba-d1df-4272-8708-ccdc9f2269e3",
   "metadata": {},
   "outputs": [],
   "source": [
    "# loop\n",
    "# for \n",
    "# while"
   ]
  },
  {
   "cell_type": "code",
   "execution_count": 2,
   "id": "04e2cfd6-8e47-4fb5-931f-c6262f573480",
   "metadata": {},
   "outputs": [],
   "source": [
    "# range(5)  # 0,1,2,3,4\n",
    "# range(1,5) # 1,2,3,4\n",
    "# range(1,5,2) #1,3"
   ]
  },
  {
   "cell_type": "code",
   "execution_count": 6,
   "id": "c5aaa1d5-024d-45d8-b34d-050a567852b9",
   "metadata": {},
   "outputs": [
    {
     "name": "stdout",
     "output_type": "stream",
     "text": [
      "0 1 2 3 4 "
     ]
    }
   ],
   "source": [
    "for i in range(5):\n",
    "    print(i, end = \" \")"
   ]
  },
  {
   "cell_type": "code",
   "execution_count": 7,
   "id": "6d598f5d-3e3a-47fb-9685-092d4cff6f44",
   "metadata": {},
   "outputs": [
    {
     "name": "stdout",
     "output_type": "stream",
     "text": [
      "1 2 3 4 "
     ]
    }
   ],
   "source": [
    "for i in range(1,5):\n",
    "    print(i, end = \" \")"
   ]
  },
  {
   "cell_type": "code",
   "execution_count": 8,
   "id": "45607367-5cd3-415a-837b-55f638be814a",
   "metadata": {},
   "outputs": [
    {
     "name": "stdout",
     "output_type": "stream",
     "text": [
      "1 3 "
     ]
    }
   ],
   "source": [
    "for i in range(1,5,2):\n",
    "    print(i, end = \" \")"
   ]
  },
  {
   "cell_type": "code",
   "execution_count": 13,
   "id": "68cae9c7-dbda-43b5-abad-229f65f4340c",
   "metadata": {},
   "outputs": [
    {
     "name": "stdout",
     "output_type": "stream",
     "text": [
      "1 Hello World\n",
      "3 Hello World\n"
     ]
    }
   ],
   "source": [
    "for i in range(1,5,2):\n",
    "    print(i,\"Hello World\")"
   ]
  },
  {
   "cell_type": "code",
   "execution_count": 15,
   "id": "2c773766-ecda-4254-a390-7e92c782b6bf",
   "metadata": {},
   "outputs": [],
   "source": [
    "n = int(input(\"Enter n = \"))\n",
    "for i in range(1,11):\n",
    "    print(n*i)"
   ]
  },
  {
   "cell_type": "code",
   "execution_count": 18,
   "id": "c6c247e4-3ffa-4140-a8c9-91e367737acc",
   "metadata": {},
   "outputs": [
    {
     "name": "stdin",
     "output_type": "stream",
     "text": [
      "Enter n =  5\n"
     ]
    },
    {
     "name": "stdout",
     "output_type": "stream",
     "text": [
      "5 * 1 = 5\n",
      "5 * 2 = 10\n",
      "5 * 3 = 15\n",
      "5 * 4 = 20\n",
      "5 * 5 = 25\n",
      "5 * 6 = 30\n",
      "5 * 7 = 35\n",
      "5 * 8 = 40\n",
      "5 * 9 = 45\n",
      "5 * 10 = 50\n"
     ]
    }
   ],
   "source": [
    "n = int(input(\"Enter n = \"))\n",
    "for i in range(1,11):\n",
    "    print(n,\"*\",i,\"=\",n*i)"
   ]
  },
  {
   "cell_type": "code",
   "execution_count": 24,
   "id": "6b385066-a241-4289-b2d4-a9ad4df23ee6",
   "metadata": {},
   "outputs": [],
   "source": [
    "# s = 0\n",
    "# for i in range(5):\n",
    "#     x = int(input(\"Enter x = \"))\n",
    "#     s = s + x\n",
    "#     print(s)"
   ]
  },
  {
   "cell_type": "code",
   "execution_count": null,
   "id": "36c14da1-3381-40cb-82b1-f698c868d8bb",
   "metadata": {},
   "outputs": [],
   "source": [
    "s = 0\n",
    "c = 0\n",
    "for i in range(5):\n",
    "    x = int(input(\"Enter x = \"))\n",
    "    c = c + x*1.1\n",
    "    s = s + x\n",
    "    print(\"c = \",c)\n",
    "    print(\"s = \",s)"
   ]
  },
  {
   "cell_type": "code",
   "execution_count": 32,
   "id": "8023f829-37a0-46a1-9297-07e987f23d8d",
   "metadata": {},
   "outputs": [
    {
     "name": "stdin",
     "output_type": "stream",
     "text": [
      "Enter n =  5\n"
     ]
    },
    {
     "name": "stdout",
     "output_type": "stream",
     "text": [
      "Fac =  1 i =  1\n",
      "1\n",
      "Fac =  1 i =  2\n",
      "2\n",
      "Fac =  2 i =  3\n",
      "6\n",
      "Fac =  6 i =  4\n",
      "24\n",
      "Fac =  24 i =  5\n",
      "120\n"
     ]
    }
   ],
   "source": [
    "#4! = 1*2*3*4\n",
    "fac = 1\n",
    "n = int(input(\"Enter n = \"))\n",
    "for i in range(1,n+1):\n",
    "    print(\"Fac = \",fac,\"i = \",i)\n",
    "    fac = fac *i\n",
    "    \n",
    "    print(fac)"
   ]
  },
  {
   "cell_type": "code",
   "execution_count": 3,
   "id": "0de4e448-9fff-4e60-b6ca-525891336090",
   "metadata": {},
   "outputs": [
    {
     "name": "stdout",
     "output_type": "stream",
     "text": [
      "Hello World"
     ]
    }
   ],
   "source": [
    "a = \"Hello World\"\n",
    "for i in a:\n",
    "    print(i ,end = \"\")"
   ]
  },
  {
   "cell_type": "code",
   "execution_count": 4,
   "id": "eb555153-f0e9-4c31-b9f5-1fe7ca9a9e86",
   "metadata": {},
   "outputs": [
    {
     "name": "stdout",
     "output_type": "stream",
     "text": [
      "Hello World\n",
      "Hello World\n",
      "Hello World\n",
      "Hello World\n",
      "Hello World\n"
     ]
    }
   ],
   "source": [
    "a = \"Hello\"\n",
    "for i in a:\n",
    "    print(\"Hello World\")"
   ]
  },
  {
   "cell_type": "code",
   "execution_count": 14,
   "id": "bdf41d4f-5c91-42ea-bcd4-0f6e821e56db",
   "metadata": {},
   "outputs": [
    {
     "name": "stdout",
     "output_type": "stream",
     "text": [
      "Hello World I am python"
     ]
    }
   ],
   "source": [
    "a = \"Hello World. I am python.\"\n",
    "for i in a:\n",
    "    if i != \".\":\n",
    "        print(i, end = \"\")"
   ]
  },
  {
   "cell_type": "code",
   "execution_count": 17,
   "id": "21f489de-878d-4755-a4b5-4ebf9e4f3b72",
   "metadata": {},
   "outputs": [
    {
     "name": "stdin",
     "output_type": "stream",
     "text": [
      "Enter n =  2\n",
      "Enter name =  Ram\n",
      "Enter phone =  9808778765\n",
      "Enter name =  Shyam\n",
      "Enter phone =  9808778765\n"
     ]
    },
    {
     "name": "stdout",
     "output_type": "stream",
     "text": [
      "Ram 9808778765\n",
      "Shyam 9808778765\n",
      "\n"
     ]
    }
   ],
   "source": [
    "info = str()\n",
    "n = int(input(\"Enter n = \"))\n",
    "for i in range(n):\n",
    "    name = input(\"Enter name = \")\n",
    "    phone = input(\"Enter phone = \")\n",
    "    data = name +\" \"+ phone + \"\\n\"\n",
    "    info = info +data\n",
    "\n",
    "print(info)"
   ]
  },
  {
   "cell_type": "code",
   "execution_count": 19,
   "id": "1e6872d6-429c-4b87-8a2f-d16af75bb5c0",
   "metadata": {},
   "outputs": [
    {
     "name": "stdin",
     "output_type": "stream",
     "text": [
      "Enter n =  2\n",
      "Enter name =  Coke\n",
      "Enter price =  200\n",
      "Enter qty =  3\n",
      "Enter name =  Momo\n",
      "Enter price =  100\n",
      "Enter qty =  2\n"
     ]
    },
    {
     "name": "stdout",
     "output_type": "stream",
     "text": [
      "Coke 200.0 3.0 600.0\n",
      "Momo 100.0 2.0 200.0\n",
      "\n",
      "Net total =  800.0\n"
     ]
    }
   ],
   "source": [
    "net_total = 0\n",
    "bill = \"\"\n",
    "n = int(input(\"Enter n = \"))\n",
    "for i in range(n):\n",
    "    name = input(\"Enter name = \")\n",
    "    price = float(input(\"Enter price = \"))\n",
    "    qty = float(input(\"Enter qty = \"))\n",
    "    total = price * qty\n",
    "    data = name +\" \"+ str(price) +\" \" + str(qty) +\" \" + str(total) + \"\\n\"\n",
    "    bill = bill + data\n",
    "    net_total = net_total + total\n",
    "    \n",
    "print(bill)\n",
    "print(\"Net total = \",net_total)"
   ]
  },
  {
   "cell_type": "code",
   "execution_count": 20,
   "id": "6eec22ea-f2e9-4bdd-9778-40469558f4f1",
   "metadata": {},
   "outputs": [],
   "source": [
    "# control statement\n",
    "#break\n",
    "#continue"
   ]
  },
  {
   "cell_type": "code",
   "execution_count": 21,
   "id": "7d5684f2-642a-4e26-b699-180d6e8826f7",
   "metadata": {},
   "outputs": [
    {
     "name": "stdout",
     "output_type": "stream",
     "text": [
      "0\n",
      "1\n",
      "2\n",
      "3\n",
      "4\n"
     ]
    }
   ],
   "source": [
    "for i in range(10):\n",
    "    if i == 5:\n",
    "        break\n",
    "    print(i)"
   ]
  },
  {
   "cell_type": "code",
   "execution_count": 22,
   "id": "b870325d-0fed-435d-9ef5-e3aa42feb25e",
   "metadata": {},
   "outputs": [
    {
     "name": "stdout",
     "output_type": "stream",
     "text": [
      "Hello World"
     ]
    }
   ],
   "source": [
    "a = \"Hello World. I am python.\"\n",
    "for i in a:\n",
    "    if i != \".\":\n",
    "        print(i, end = \"\")\n",
    "    else:\n",
    "        break"
   ]
  },
  {
   "cell_type": "code",
   "execution_count": 24,
   "id": "c828b10a-e568-4dca-862f-d7f5cde82e93",
   "metadata": {},
   "outputs": [
    {
     "name": "stdout",
     "output_type": "stream",
     "text": [
      "0 1 2 3 4 6 7 8 9 "
     ]
    }
   ],
   "source": [
    "for i in range(10):\n",
    "    if i == 5:\n",
    "        continue\n",
    "    print(i, end = \" \")"
   ]
  },
  {
   "cell_type": "code",
   "execution_count": 1,
   "id": "0f5784cf-1a74-4088-bd64-133f154ffaf2",
   "metadata": {},
   "outputs": [],
   "source": [
    "# WAP to detect if the given no is prime or composite\n",
    "# prime : 2,3,5,7,11,13,17\n",
    "# composite : 4,6,9,10,12,14"
   ]
  },
  {
   "cell_type": "code",
   "execution_count": 14,
   "id": "598980e6-e399-4f6f-afca-957c1958b19d",
   "metadata": {},
   "outputs": [
    {
     "name": "stdin",
     "output_type": "stream",
     "text": [
      "Enter n =  -23\n"
     ]
    },
    {
     "name": "stdout",
     "output_type": "stream",
     "text": [
      "value should be >= 2\n"
     ]
    }
   ],
   "source": [
    "n = int(input(\"Enter n = \"))\n",
    "if n >=2:\n",
    "    for i in range(2,n//2):\n",
    "        if n%i==0:\n",
    "            print(n,\"is composite\",\"i = \",i)\n",
    "            break\n",
    "    else:\n",
    "        print(n,\"is prime\")\n",
    "else:\n",
    "   print(\"value should be >= 2\") "
   ]
  },
  {
   "cell_type": "code",
   "execution_count": 34,
   "id": "01759b13-22ba-4859-8007-c2d3ba1a7927",
   "metadata": {},
   "outputs": [
    {
     "name": "stdout",
     "output_type": "stream",
     "text": [
      "     *\n",
      "    ***\n",
      "   *****\n",
      "  *******\n"
     ]
    }
   ],
   "source": [
    "n = 5\n",
    "for i in range(1,n):\n",
    "    print((n-i)*\" \",\"*\"*(2*i-1))\n",
    "    "
   ]
  },
  {
   "cell_type": "code",
   "execution_count": 19,
   "id": "24fbe023-356f-472c-9c79-3a0827e81443",
   "metadata": {},
   "outputs": [
    {
     "name": "stdout",
     "output_type": "stream",
     "text": [
      "5\n",
      "4\n",
      "3\n",
      "2\n",
      "1\n",
      "0\n"
     ]
    }
   ],
   "source": [
    "for i in range(5,-1,-1):\n",
    "    print(i)"
   ]
  },
  {
   "cell_type": "code",
   "execution_count": 40,
   "id": "8c4b7f82-5d1e-4fa0-b48a-dca9a8131415",
   "metadata": {},
   "outputs": [
    {
     "name": "stdout",
     "output_type": "stream",
     "text": [
      "     o\n",
      "    ooo\n",
      "   ooooo\n",
      "  ooooooo\n",
      "    **\n",
      "    **\n",
      "    **\n"
     ]
    }
   ],
   "source": [
    "n = 5\n",
    "for i in range(1,n):\n",
    "    print((n-i)*\" \",\"o\"*(2*i-1))\n",
    "for i in range(3):\n",
    "    print(\" \"*3,\"*\"*2)"
   ]
  },
  {
   "cell_type": "code",
   "execution_count": 50,
   "id": "9c1a6224-1f3c-4fdf-a5a9-87052a11d7e3",
   "metadata": {},
   "outputs": [
    {
     "name": "stdout",
     "output_type": "stream",
     "text": [
      "*\n",
      "***\n",
      "*****\n",
      "*******\n",
      "*********\n",
      "*\n",
      "***\n",
      "*****\n",
      "*******\n",
      "*********\n",
      "*\n",
      "*\n",
      "*\n",
      "*\n",
      "*\n"
     ]
    }
   ],
   "source": [
    "for i in range(1,10,2):\n",
    "    print(\"*\"*i)\n",
    "for i in range(1,10,2):\n",
    "    print(\"*\"*i)\n",
    "for i in range(5):\n",
    "    print(\"*\"*1)"
   ]
  },
  {
   "cell_type": "code",
   "execution_count": 51,
   "id": "2db7a6d3-ed2c-4faf-aa5d-4608bced496e",
   "metadata": {},
   "outputs": [],
   "source": [
    "# # While\n",
    "# while <condition>:\n",
    "#     <operation>\n"
   ]
  },
  {
   "cell_type": "code",
   "execution_count": 2,
   "id": "29c8df18-8a67-4a4e-8399-22e60911a887",
   "metadata": {},
   "outputs": [
    {
     "name": "stdout",
     "output_type": "stream",
     "text": [
      "0 Hello World\n",
      "1 Hello World\n",
      "2 Hello World\n",
      "3 Hello World\n",
      "4 Hello World\n",
      "5 Hello World\n"
     ]
    }
   ],
   "source": [
    "i = 0\n",
    "while i<=5:\n",
    "    print(i,\"Hello World\")\n",
    "    i = i+1"
   ]
  },
  {
   "cell_type": "code",
   "execution_count": 3,
   "id": "65e82c9d-88dd-4a02-a6e7-49e94aab4ff4",
   "metadata": {},
   "outputs": [
    {
     "name": "stdout",
     "output_type": "stream",
     "text": [
      "5 Hello World\n",
      "4 Hello World\n",
      "3 Hello World\n",
      "2 Hello World\n",
      "1 Hello World\n",
      "0 Hello World\n"
     ]
    }
   ],
   "source": [
    "i = 5\n",
    "while i>=0:\n",
    "    print(i,\"Hello World\")\n",
    "    i = i-1"
   ]
  },
  {
   "cell_type": "code",
   "execution_count": 4,
   "id": "15a59d7a-bf1a-4684-891b-f16121e46aa4",
   "metadata": {},
   "outputs": [
    {
     "name": "stdin",
     "output_type": "stream",
     "text": [
      "Enter n =  5\n"
     ]
    },
    {
     "name": "stdout",
     "output_type": "stream",
     "text": [
      "5 * 1 = 5\n",
      "5 * 2 = 10\n",
      "5 * 3 = 15\n",
      "5 * 4 = 20\n",
      "5 * 5 = 25\n",
      "5 * 6 = 30\n",
      "5 * 7 = 35\n",
      "5 * 8 = 40\n",
      "5 * 9 = 45\n",
      "5 * 10 = 50\n"
     ]
    }
   ],
   "source": [
    "i = 1\n",
    "n = int(input(\"Enter n = \"))\n",
    "while i<=10:\n",
    "    print(n,\"*\",i,\"=\",n*i)\n",
    "    i = i+1"
   ]
  },
  {
   "cell_type": "code",
   "execution_count": 5,
   "id": "ae73af7b-4332-42a2-be4a-0cc9f7df51cb",
   "metadata": {},
   "outputs": [
    {
     "name": "stdin",
     "output_type": "stream",
     "text": [
      "Enter n =  5\n"
     ]
    },
    {
     "name": "stdout",
     "output_type": "stream",
     "text": [
      "Fac =  1 i =  1\n",
      "1\n",
      "Fac =  1 i =  2\n",
      "2\n",
      "Fac =  2 i =  3\n",
      "6\n",
      "Fac =  6 i =  4\n",
      "24\n",
      "Fac =  24 i =  5\n",
      "120\n"
     ]
    }
   ],
   "source": [
    "#4! = 1*2*3*4\n",
    "i = 1\n",
    "fac = 1\n",
    "n = int(input(\"Enter n = \"))\n",
    "while i<=n:\n",
    "    print(\"Fac = \",fac,\"i = \",i)\n",
    "    fac = fac *i\n",
    "    i = i+1\n",
    "    \n",
    "print(fac)"
   ]
  },
  {
   "cell_type": "code",
   "execution_count": null,
   "id": "47023a6b-1158-4749-869c-b7ff56cfdecf",
   "metadata": {},
   "outputs": [],
   "source": []
  }
 ],
 "metadata": {
  "kernelspec": {
   "display_name": "Python 3 (ipykernel)",
   "language": "python",
   "name": "python3"
  },
  "language_info": {
   "codemirror_mode": {
    "name": "ipython",
    "version": 3
   },
   "file_extension": ".py",
   "mimetype": "text/x-python",
   "name": "python",
   "nbconvert_exporter": "python",
   "pygments_lexer": "ipython3",
   "version": "3.11.7"
  }
 },
 "nbformat": 4,
 "nbformat_minor": 5
}
