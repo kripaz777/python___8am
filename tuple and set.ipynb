{
 "cells": [
  {
   "cell_type": "code",
   "execution_count": 1,
   "id": "efad1c86-af86-4c52-9208-a9ea706d3bf8",
   "metadata": {},
   "outputs": [],
   "source": [
    "# tuple\n",
    "# -Indexing\n",
    "# -Ordered\n",
    "# -Multiple and Duplicate\n",
    "# -Imutable"
   ]
  },
  {
   "cell_type": "code",
   "execution_count": 6,
   "id": "d3854c83-d3ea-45b2-9e21-3c2051ae0bf6",
   "metadata": {},
   "outputs": [
    {
     "name": "stdout",
     "output_type": "stream",
     "text": [
      "<class 'tuple'>\n",
      "<class 'tuple'>\n"
     ]
    }
   ],
   "source": [
    "a = (1,2,3,4,5,5)\n",
    "b = (\"Apple\",\"Ball\",\"Cat\")\n",
    "print(type(a))\n",
    "print(type(b))"
   ]
  },
  {
   "cell_type": "code",
   "execution_count": 7,
   "id": "06620dde-9f3e-4422-90b8-9454dff1c071",
   "metadata": {},
   "outputs": [
    {
     "name": "stdout",
     "output_type": "stream",
     "text": [
      "Apple\n",
      "1\n"
     ]
    }
   ],
   "source": [
    "print(b[0])\n",
    "print(a[0])"
   ]
  },
  {
   "cell_type": "code",
   "execution_count": 8,
   "id": "de445bee-6b4e-47cc-8305-bbc094c75906",
   "metadata": {},
   "outputs": [
    {
     "name": "stdout",
     "output_type": "stream",
     "text": [
      "('Apple', 'Ball', 'Cat')\n"
     ]
    }
   ],
   "source": [
    "print(b)"
   ]
  },
  {
   "cell_type": "code",
   "execution_count": 9,
   "id": "7ec1dc04-0d08-4291-9223-7c3082bafc52",
   "metadata": {},
   "outputs": [],
   "source": [
    "# Why imutable?\n",
    "# No create no append() insert() extend()\n",
    "# No Update\n",
    "# No delete no del remove() pop()\n",
    "# No sort() reverse()"
   ]
  },
  {
   "cell_type": "code",
   "execution_count": 10,
   "id": "f7c96e79-b559-47a9-8535-c19fef4979ea",
   "metadata": {},
   "outputs": [],
   "source": [
    "gender = (\"Male\",\"Female\",\"Other\")"
   ]
  },
  {
   "cell_type": "code",
   "execution_count": 11,
   "id": "c55becc8-c336-4ec7-bd4e-f8fd4a4f0614",
   "metadata": {},
   "outputs": [
    {
     "name": "stdout",
     "output_type": "stream",
     "text": [
      "(1, 2, 3, 4, 5, 6)\n"
     ]
    }
   ],
   "source": [
    "a = (1,2,3)\n",
    "b = (4,5,6)\n",
    "c = a+b\n",
    "print(c)"
   ]
  },
  {
   "cell_type": "code",
   "execution_count": 14,
   "id": "bd7bdff6-817d-4ac1-b6c6-967de14f7913",
   "metadata": {},
   "outputs": [
    {
     "data": {
      "text/plain": [
       "tuple"
      ]
     },
     "execution_count": 14,
     "metadata": {},
     "output_type": "execute_result"
    }
   ],
   "source": [
    "t = (1,)\n",
    "type(t)"
   ]
  },
  {
   "cell_type": "code",
   "execution_count": 15,
   "id": "15187e25-18ce-4e3f-a532-83bc4dfbf6ee",
   "metadata": {},
   "outputs": [
    {
     "name": "stdin",
     "output_type": "stream",
     "text": [
      "Enter n =  10\n",
      "Enter x =  213\n",
      "Enter x =  345\n",
      "Enter x =  65\n",
      "Enter x =  243\n",
      "Enter x =  56\n",
      "Enter x =  435\n",
      "Enter x =  657\n",
      "Enter x =  34\n",
      "Enter x =  57\n",
      "Enter x =  243\n"
     ]
    },
    {
     "name": "stdout",
     "output_type": "stream",
     "text": [
      "(213, 345, 65, 243, 56, 435, 657, 34, 57, 243)\n"
     ]
    }
   ],
   "source": [
    "t = ()\n",
    "n = int(input(\"Enter n = \"))\n",
    "for i in range(n):\n",
    "    x = int(input(\"Enter x = \"))\n",
    "    t = t + (x,)\n",
    "\n",
    "print(t)"
   ]
  },
  {
   "cell_type": "code",
   "execution_count": 17,
   "id": "9af35dca-d07a-4888-bb66-427806633825",
   "metadata": {},
   "outputs": [
    {
     "name": "stdout",
     "output_type": "stream",
     "text": [
      "Max value of t=  657\n",
      "Min value of t=  34\n",
      "Sum of t =  2348\n"
     ]
    }
   ],
   "source": [
    "# min() max() sum() \n",
    "print(\"Max value of t= \",max(t))\n",
    "print(\"Min value of t= \",min(t))\n",
    "print(\"Sum of t = \",sum(t))"
   ]
  },
  {
   "cell_type": "code",
   "execution_count": 18,
   "id": "2d4c938e-c0b0-45ad-b38d-a261a729a361",
   "metadata": {},
   "outputs": [
    {
     "data": {
      "text/plain": [
       "(10, 20, 30, 40, 50)"
      ]
     },
     "execution_count": 18,
     "metadata": {},
     "output_type": "execute_result"
    }
   ],
   "source": [
    "a = 10,20,30,40,50\n",
    "a"
   ]
  },
  {
   "cell_type": "code",
   "execution_count": 22,
   "id": "9b62a2a7-48a1-4110-8c23-08e3ba24d986",
   "metadata": {},
   "outputs": [
    {
     "name": "stdout",
     "output_type": "stream",
     "text": [
      "(30, 40, 50)\n"
     ]
    }
   ],
   "source": [
    "# tuple to list\n",
    "b = list(a)\n",
    "del b[0]\n",
    "a = tuple(b)\n",
    "print(a)"
   ]
  },
  {
   "cell_type": "code",
   "execution_count": 25,
   "id": "9334e153-5062-4732-952f-2743ee6b7fa2",
   "metadata": {},
   "outputs": [
    {
     "name": "stdout",
     "output_type": "stream",
     "text": [
      "[[1, 2, 3], [4, 5, 6], [7, 8, 9]]\n"
     ]
    }
   ],
   "source": [
    "# tuple inside tuple\n",
    "l = []\n",
    "a = ((1,2,3),(4,5,6),(7,8,9))\n",
    "for i in a:\n",
    "    l.append(list(i))\n",
    "print(l)"
   ]
  },
  {
   "cell_type": "code",
   "execution_count": 29,
   "id": "aabbf99c-28bf-4a3d-907a-34887a6fe421",
   "metadata": {},
   "outputs": [
    {
     "name": "stdout",
     "output_type": "stream",
     "text": [
      "((1, 2, 3), (4, 5, 6), (7, 8, 9))\n"
     ]
    }
   ],
   "source": [
    "a = [[1, 2, 3], [4, 5, 6], [7, 8, 9]]\n",
    "# tuple inside tuple\n",
    "t = ()\n",
    "for i in a:\n",
    "    x = tuple(i)\n",
    "    t = t + (x,)\n",
    "\n",
    "print(t)"
   ]
  },
  {
   "cell_type": "code",
   "execution_count": null,
   "id": "34ef07c1-a615-4545-aca7-aa3611513fec",
   "metadata": {},
   "outputs": [],
   "source": []
  }
 ],
 "metadata": {
  "kernelspec": {
   "display_name": "Python 3 (ipykernel)",
   "language": "python",
   "name": "python3"
  },
  "language_info": {
   "codemirror_mode": {
    "name": "ipython",
    "version": 3
   },
   "file_extension": ".py",
   "mimetype": "text/x-python",
   "name": "python",
   "nbconvert_exporter": "python",
   "pygments_lexer": "ipython3",
   "version": "3.11.7"
  }
 },
 "nbformat": 4,
 "nbformat_minor": 5
}
