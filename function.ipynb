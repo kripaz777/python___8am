{
 "cells": [
  {
   "cell_type": "code",
   "execution_count": 1,
   "id": "a11bfe2c-df9b-4fa9-993c-99beec6a49b2",
   "metadata": {},
   "outputs": [],
   "source": [
    "# Pre defined Function\n",
    "#print() int() float() str() list() tuple() set() dict()"
   ]
  },
  {
   "cell_type": "code",
   "execution_count": 2,
   "id": "4bfba86b-3e1c-4ca2-b56a-3f49d4059ddc",
   "metadata": {},
   "outputs": [],
   "source": [
    "# User defined funct"
   ]
  },
  {
   "cell_type": "code",
   "execution_count": 3,
   "id": "4535a9ea-28e6-4f6c-9754-858d10f8d576",
   "metadata": {},
   "outputs": [],
   "source": [
    "# def <function_name>:   defining function\n",
    "#     <operation>\n",
    "\n",
    "# <function_name>()      calling function"
   ]
  },
  {
   "cell_type": "code",
   "execution_count": 6,
   "id": "6f2d8b1a-3153-458e-8d8c-2c917ad5a54f",
   "metadata": {},
   "outputs": [
    {
     "name": "stdout",
     "output_type": "stream",
     "text": [
      "Hello World\n"
     ]
    }
   ],
   "source": [
    "def hello():\n",
    "    print(\"Hello World\")\n",
    "\n",
    "hello()"
   ]
  },
  {
   "cell_type": "code",
   "execution_count": 7,
   "id": "897d607e-4e84-449e-a8de-33b8e3a43f03",
   "metadata": {},
   "outputs": [
    {
     "name": "stdin",
     "output_type": "stream",
     "text": [
      "Enter l =  10\n",
      "Enter b =  5\n"
     ]
    },
    {
     "name": "stdout",
     "output_type": "stream",
     "text": [
      "50\n"
     ]
    }
   ],
   "source": [
    "def cal():\n",
    "    l = int(input(\"Enter l = \"))    #local \n",
    "    b = int(input(\"Enter b = \"))    #local\n",
    "    a = l*b\n",
    "    print(a)\n",
    "\n",
    "cal()"
   ]
  },
  {
   "cell_type": "code",
   "execution_count": null,
   "id": "7a566bb2-fe25-4cf7-94f6-e8db428aa069",
   "metadata": {},
   "outputs": [],
   "source": [
    "l = int(input(\"Enter l = \"))    #global\n",
    "b = int(input(\"Enter b = \"))    #global\n",
    "\n",
    "def cal():\n",
    "    a = l*b\n",
    "    print(a)\n",
    "\n",
    "cal()"
   ]
  },
  {
   "cell_type": "code",
   "execution_count": null,
   "id": "7d8dc6b3-ebc1-4c32-9451-43cbcceb1d47",
   "metadata": {},
   "outputs": [],
   "source": [
    "#function without argument\n",
    "def cal():\n",
    "    global l,b\n",
    "    l = int(input(\"Enter l = \"))    #global\n",
    "    b = int(input(\"Enter b = \"))    #global\n",
    "    a = l*b\n",
    "    print(a)\n",
    "\n",
    "cal()"
   ]
  },
  {
   "cell_type": "code",
   "execution_count": 8,
   "id": "c97b02ea-f8f8-4514-a7c3-3d2d524987f5",
   "metadata": {},
   "outputs": [
    {
     "name": "stdin",
     "output_type": "stream",
     "text": [
      "Enter l =  109\n",
      "Enter b =  34\n"
     ]
    },
    {
     "name": "stdout",
     "output_type": "stream",
     "text": [
      "3706\n"
     ]
    }
   ],
   "source": [
    "# argument\n",
    "#function with argument\n",
    "def cal(l,b):\n",
    "    a = l*b\n",
    "    print(a)\n",
    "\n",
    "l = int(input(\"Enter l = \"))    #global\n",
    "b = int(input(\"Enter b = \"))    #global\n",
    "cal(l,b)                        #l,b are arguments"
   ]
  },
  {
   "cell_type": "code",
   "execution_count": 9,
   "id": "02b425d5-1d3e-4f7b-a8f3-7bdd701e14ab",
   "metadata": {},
   "outputs": [
    {
     "name": "stdin",
     "output_type": "stream",
     "text": [
      "Enter name =  Ram\n",
      "Enter age =  34\n",
      "Enter add =  Kathmandu\n"
     ]
    },
    {
     "name": "stdout",
     "output_type": "stream",
     "text": [
      "Hello World I am Ram. I am from Kathmandu. I am 34\n"
     ]
    }
   ],
   "source": [
    "def info(x,y,z):\n",
    "    data = f\"Hello World I am {x}. I am from {z}. I am {y}\"\n",
    "    print(data)\n",
    "\n",
    "name = input(\"Enter name = \")\n",
    "age = int(input(\"Enter age = \"))\n",
    "add = input(\"Enter add = \")\n",
    "\n",
    "info(name,age,add)"
   ]
  },
  {
   "cell_type": "code",
   "execution_count": 10,
   "id": "ebd15e2f-2de9-460e-a286-ff50ea78e72f",
   "metadata": {},
   "outputs": [
    {
     "name": "stdout",
     "output_type": "stream",
     "text": [
      "C\n",
      "C++\n",
      "Java\n",
      "Python\n"
     ]
    }
   ],
   "source": [
    "def language(lan = \"Python\"):\n",
    "    print(lan)\n",
    "\n",
    "language(\"C\")\n",
    "language(\"C++\")\n",
    "language(\"Java\")\n",
    "language()"
   ]
  },
  {
   "cell_type": "code",
   "execution_count": 14,
   "id": "6786f19e-d9d6-47b3-bd29-5934b9c26d7c",
   "metadata": {},
   "outputs": [
    {
     "name": "stdin",
     "output_type": "stream",
     "text": [
      "Enter name =  Ram\n",
      "Enter age =  34\n",
      "Enter add =  Kathmandu\n",
      "Enter country =  China\n"
     ]
    },
    {
     "name": "stdout",
     "output_type": "stream",
     "text": [
      "Hello World I am Ram. I am from Kathmandu,China. I am 34\n"
     ]
    }
   ],
   "source": [
    "def info(name,age,add,country=\"Nepal\"):\n",
    "    data = f\"Hello World I am {name}. I am from {add},{country}. I am {age}\"\n",
    "    print(data)\n",
    "\n",
    "name = input(\"Enter name = \")\n",
    "age = int(input(\"Enter age = \"))\n",
    "add = input(\"Enter add = \")\n",
    "country = input(\"Enter country = \")\n",
    "\n",
    "if country == \"\":\n",
    "    info(name,age,add)\n",
    "else:\n",
    "    info(name,age,add,country)"
   ]
  },
  {
   "cell_type": "code",
   "execution_count": 17,
   "id": "9ebe0c5a-6381-4e4c-9e0e-b782015fd950",
   "metadata": {},
   "outputs": [
    {
     "name": "stdout",
     "output_type": "stream",
     "text": [
      "Hello\n"
     ]
    }
   ],
   "source": [
    "# Return type function\n",
    "def hello():\n",
    "    return \"Hello\"\n",
    "\n",
    "x = hello()\n",
    "print(x)"
   ]
  },
  {
   "cell_type": "code",
   "execution_count": 18,
   "id": "f877023d-2238-4f7e-96b7-3938ee240a7c",
   "metadata": {},
   "outputs": [
    {
     "name": "stdout",
     "output_type": "stream",
     "text": [
      "Hello World\n"
     ]
    }
   ],
   "source": [
    "# Return type function\n",
    "def hello():\n",
    "    return \"Hello\"\n",
    "\n",
    "x = hello()\n",
    "y = x + \" World\"\n",
    "print(y)"
   ]
  },
  {
   "cell_type": "code",
   "execution_count": 19,
   "id": "37449b05-04df-40cd-bbeb-f216ffb3b266",
   "metadata": {},
   "outputs": [
    {
     "name": "stdout",
     "output_type": "stream",
     "text": [
      "(50, 100)\n"
     ]
    }
   ],
   "source": [
    "def cal():\n",
    "    l = 10\n",
    "    b = 5\n",
    "    h = 2\n",
    "    a = l*b\n",
    "    v = l*b*h\n",
    "    return a,v\n",
    "\n",
    "print(cal())"
   ]
  },
  {
   "cell_type": "code",
   "execution_count": 20,
   "id": "e5e8d15a-de57-4d10-ada1-e26c698c5008",
   "metadata": {},
   "outputs": [
    {
     "name": "stdin",
     "output_type": "stream",
     "text": [
      "Enter a =  10\n",
      "Enter b =  3\n",
      "Enter + or - or * or /  +\n"
     ]
    },
    {
     "name": "stdout",
     "output_type": "stream",
     "text": [
      "13\n"
     ]
    }
   ],
   "source": [
    "def add(a,b):\n",
    "    return a+b\n",
    "    \n",
    "def sub(a,b):\n",
    "    return a-b\n",
    "\n",
    "def mul(a,b):\n",
    "    return a*b\n",
    "\n",
    "def div(a,b):\n",
    "    return a/b\n",
    "    \n",
    "a = int(input(\"Enter a = \"))\n",
    "b = int(input(\"Enter b = \"))\n",
    "o = input(\"Enter + or - or * or / \")\n",
    "if o == \"+\":\n",
    "    print(add(a,b))\n",
    "elif o == \"-\":\n",
    "    print(sub(a,b))\n",
    "elif o == \"*\":\n",
    "    print(mul(a,b))\n",
    "elif o == \"/\":\n",
    "    print(div(a,b))\n",
    "else:\n",
    "    print(\"Invalid operator\")"
   ]
  },
  {
   "cell_type": "code",
   "execution_count": 1,
   "id": "2a0b3a04-7add-48a8-9aba-7734a0524d9e",
   "metadata": {},
   "outputs": [],
   "source": [
    "# Recursive function"
   ]
  },
  {
   "cell_type": "code",
   "execution_count": 7,
   "id": "ae5039a7-784c-419a-878a-e5c170fb3d27",
   "metadata": {},
   "outputs": [],
   "source": [
    "def hello():\n",
    "    print(\"Hello World\")\n",
    "    hello()\n",
    "    \n",
    "hello()"
   ]
  },
  {
   "cell_type": "code",
   "execution_count": 6,
   "id": "b6e77fa0-0958-4d58-acd3-9e437fff3052",
   "metadata": {},
   "outputs": [
    {
     "name": "stdout",
     "output_type": "stream",
     "text": [
      "Hello World\n"
     ]
    },
    {
     "name": "stdin",
     "output_type": "stream",
     "text": [
      "Enter y for more print  y\n"
     ]
    },
    {
     "name": "stdout",
     "output_type": "stream",
     "text": [
      "Hello World\n"
     ]
    },
    {
     "name": "stdin",
     "output_type": "stream",
     "text": [
      "Enter y for more print  y\n"
     ]
    },
    {
     "name": "stdout",
     "output_type": "stream",
     "text": [
      "Hello World\n"
     ]
    },
    {
     "name": "stdin",
     "output_type": "stream",
     "text": [
      "Enter y for more print  dasd\n"
     ]
    }
   ],
   "source": [
    "def hello():\n",
    "    print(\"Hello World\")\n",
    "    x = input(\"Enter y for more print \")\n",
    "    if x == 'y':\n",
    "        hello()\n",
    "    \n",
    "hello()"
   ]
  },
  {
   "cell_type": "code",
   "execution_count": 8,
   "id": "9a3010d0-d22b-4991-828d-2a039de17b6d",
   "metadata": {},
   "outputs": [
    {
     "name": "stdout",
     "output_type": "stream",
     "text": [
      "25\n"
     ]
    }
   ],
   "source": [
    "# lambda function\n",
    "# lambda <argument>:<expression or operation>\n",
    "x = lambda a:a**2\n",
    "print(x(5))"
   ]
  },
  {
   "cell_type": "code",
   "execution_count": 9,
   "id": "a0e9422f-f49f-44e0-ae26-9a3db7ca5a80",
   "metadata": {},
   "outputs": [
    {
     "name": "stdout",
     "output_type": "stream",
     "text": [
      "50\n"
     ]
    }
   ],
   "source": [
    "x = lambda l,b:l*b\n",
    "print(x(10,5))"
   ]
  },
  {
   "cell_type": "code",
   "execution_count": 10,
   "id": "d6b35c38-1617-40d0-a3ea-0b2007aeb1a5",
   "metadata": {},
   "outputs": [
    {
     "name": "stdout",
     "output_type": "stream",
     "text": [
      "hello world\n"
     ]
    }
   ],
   "source": [
    "x = lambda a:a.lower()\n",
    "print(x(\"Hello World\"))"
   ]
  },
  {
   "cell_type": "code",
   "execution_count": 11,
   "id": "9e9d6d78-7341-413b-a5f8-4761568b6cb4",
   "metadata": {},
   "outputs": [],
   "source": [
    "# filter map"
   ]
  },
  {
   "cell_type": "code",
   "execution_count": 14,
   "id": "59c69a34-c795-4a8f-9672-64a53174d491",
   "metadata": {},
   "outputs": [
    {
     "data": {
      "text/plain": [
       "[0, 2, 4, 6, 8, 10]"
      ]
     },
     "execution_count": 14,
     "metadata": {},
     "output_type": "execute_result"
    }
   ],
   "source": [
    "# filter function\n",
    "l = [0,1,2,3,4,5,6,7,8,9,10]\n",
    "k = list(filter(lambda x:x%2==0,l))\n",
    "k"
   ]
  },
  {
   "cell_type": "code",
   "execution_count": 18,
   "id": "585096b9-28dc-478d-9a4b-4f8744cd04d5",
   "metadata": {},
   "outputs": [
    {
     "data": {
      "text/plain": [
       "['Apple', 'Cat']"
      ]
     },
     "execution_count": 18,
     "metadata": {},
     "output_type": "execute_result"
    }
   ],
   "source": [
    "a = [\"Apple\",\"ball\",\"Cat\",\"dog\"]\n",
    "k = list(filter(lambda x:x[0].isupper(),a))\n",
    "k"
   ]
  },
  {
   "cell_type": "code",
   "execution_count": 16,
   "id": "751695c0-7621-489b-befb-0472ea5727a4",
   "metadata": {},
   "outputs": [
    {
     "data": {
      "text/plain": [
       "True"
      ]
     },
     "execution_count": 16,
     "metadata": {},
     "output_type": "execute_result"
    }
   ],
   "source": [
    "a = \"Apple\"\n",
    "a[0].isupper()"
   ]
  },
  {
   "cell_type": "code",
   "execution_count": 19,
   "id": "b8ae3442-375f-414b-981e-ffa0195e4395",
   "metadata": {},
   "outputs": [
    {
     "data": {
      "text/plain": [
       "[0, 1, 4, 9, 16, 25, 36, 49, 64, 81, 100]"
      ]
     },
     "execution_count": 19,
     "metadata": {},
     "output_type": "execute_result"
    }
   ],
   "source": [
    "# map function\n",
    "l = [0,1,2,3,4,5,6,7,8,9,10]\n",
    "k = list(map(lambda x:x**2,l))\n",
    "k"
   ]
  },
  {
   "cell_type": "code",
   "execution_count": 20,
   "id": "f1ef868e-29e8-4a41-88ce-3c65faad84fc",
   "metadata": {},
   "outputs": [
    {
     "data": {
      "text/plain": [
       "['apple', 'ball', 'cat', 'dog']"
      ]
     },
     "execution_count": 20,
     "metadata": {},
     "output_type": "execute_result"
    }
   ],
   "source": [
    "a = [\"Apple\",\"ball\",\"Cat\",\"dog\"]\n",
    "k = list(map(lambda x:x.lower(),a))\n",
    "k"
   ]
  },
  {
   "cell_type": "code",
   "execution_count": null,
   "id": "27af8205-5cf7-498c-a009-d72c9454a314",
   "metadata": {},
   "outputs": [],
   "source": []
  }
 ],
 "metadata": {
  "kernelspec": {
   "display_name": "Python 3 (ipykernel)",
   "language": "python",
   "name": "python3"
  },
  "language_info": {
   "codemirror_mode": {
    "name": "ipython",
    "version": 3
   },
   "file_extension": ".py",
   "mimetype": "text/x-python",
   "name": "python",
   "nbconvert_exporter": "python",
   "pygments_lexer": "ipython3",
   "version": "3.11.7"
  }
 },
 "nbformat": 4,
 "nbformat_minor": 5
}
