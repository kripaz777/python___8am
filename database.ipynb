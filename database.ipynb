{
 "cells": [
  {
   "cell_type": "code",
   "execution_count": 2,
   "id": "4298ea5b-4b1b-4685-91bb-c30f86628d41",
   "metadata": {},
   "outputs": [],
   "source": [
    "!pip install mysql-connector"
   ]
  },
  {
   "cell_type": "code",
   "execution_count": 7,
   "id": "aaa3d1f5-3273-4924-92f8-1cf8031147bc",
   "metadata": {},
   "outputs": [],
   "source": [
    "import mysql.connector\n",
    "#importing database\n",
    "database = mysql.connector.connect(\n",
    "        host=\"localhost\",\n",
    "        user=\"root\",\n",
    "        password=\"\",\n",
    "        database = \"pythons_8am\")\n",
    "db = database.cursor()"
   ]
  },
  {
   "cell_type": "code",
   "execution_count": 8,
   "id": "43aac356-eede-4ce3-8164-fcd850ccad9a",
   "metadata": {},
   "outputs": [
    {
     "name": "stdout",
     "output_type": "stream",
     "text": [
      "(1, 'Ram', 89.0, 76.0, 91.0, 56.0, 89.0, 400.0, 80.0, 'A')\n",
      "(2, 'Shyam', 78.0, 89.0, 67.0, 90.0, 76.0, 400.0, 83.0, 'A')\n",
      "(3, 'Shyama', 78.0, 89.0, 67.0, 90.0, 76.0, 400.0, 83.0, 'A')\n"
     ]
    }
   ],
   "source": [
    "db.execute(\"SELECT * FROM students\")\n",
    "result =db.fetchall()\n",
    "for x in result:\n",
    "    print(x)"
   ]
  },
  {
   "cell_type": "code",
   "execution_count": null,
   "id": "69994489-6c61-4896-b757-bdf0bb8e761a",
   "metadata": {},
   "outputs": [],
   "source": [
    "# insert\n",
    "sql = \"\"\" INSERT INTO students (name, physics, chemistry, math, english, nepali, total, per, grade) \n",
    "VALUES ('Sachin', 78, 67, 87, 90, 65, 400, 80, 'A');\"\"\"\"\n",
    "db.execute(sql)\n",
    "database.commit()"
   ]
  },
  {
   "cell_type": "code",
   "execution_count": 9,
   "id": "f21ff246-8e4c-40a6-966e-f732cc2b83ce",
   "metadata": {},
   "outputs": [
    {
     "name": "stdout",
     "output_type": "stream",
     "text": [
      "(1, 'Ram', 89.0, 76.0, 91.0, 56.0, 89.0, 400.0, 80.0, 'A')\n",
      "(2, 'Shyam', 78.0, 89.0, 67.0, 90.0, 76.0, 400.0, 83.0, 'A')\n",
      "(3, 'Shyama', 78.0, 89.0, 67.0, 90.0, 76.0, 400.0, 83.0, 'A')\n"
     ]
    }
   ],
   "source": [
    "db.execute(\"SELECT * FROM students\")\n",
    "result =db.fetchall()\n",
    "for x in result:\n",
    "    print(x)"
   ]
  },
  {
   "cell_type": "code",
   "execution_count": null,
   "id": "bfa6cd21-79ac-4bda-8f1a-4323df806082",
   "metadata": {},
   "outputs": [],
   "source": [
    "# Delete\n",
    "sql = \"DELETE FROM students WHERE sn = 3\"\"\n",
    "db.execute(sql)\n",
    "database.commit()"
   ]
  },
  {
   "cell_type": "code",
   "execution_count": 10,
   "id": "e5131de9-296b-4446-9a46-7cbac46cd94f",
   "metadata": {},
   "outputs": [],
   "source": [
    "sql = \"UPDATE `students` SET `name` = 'Shyama' WHERE sn = 2;\"\n",
    "db.execute(sql)\n",
    "database.commit()"
   ]
  },
  {
   "cell_type": "code",
   "execution_count": 1,
   "id": "0394b29d-98a9-4991-831f-4d07f493eb40",
   "metadata": {},
   "outputs": [],
   "source": [
    "# WAP to take data from users and insert it into the table also CRUD"
   ]
  },
  {
   "cell_type": "code",
   "execution_count": null,
   "id": "dc316a12-126b-4933-8694-9843705cc766",
   "metadata": {},
   "outputs": [],
   "source": []
  }
 ],
 "metadata": {
  "kernelspec": {
   "display_name": "Python 3 (ipykernel)",
   "language": "python",
   "name": "python3"
  },
  "language_info": {
   "codemirror_mode": {
    "name": "ipython",
    "version": 3
   },
   "file_extension": ".py",
   "mimetype": "text/x-python",
   "name": "python",
   "nbconvert_exporter": "python",
   "pygments_lexer": "ipython3",
   "version": "3.13.1"
  }
 },
 "nbformat": 4,
 "nbformat_minor": 5
}
