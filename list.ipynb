{
 "cells": [
  {
   "cell_type": "code",
   "execution_count": 1,
   "id": "a63a9cf8-30e6-42d2-8271-1153031fbc77",
   "metadata": {},
   "outputs": [],
   "source": [
    "# Python collection\n",
    "# List\n",
    "# tuple\n",
    "# dict\n",
    "# set"
   ]
  },
  {
   "cell_type": "code",
   "execution_count": 2,
   "id": "1402c40d-de93-4a50-94e1-9670c09f9f90",
   "metadata": {},
   "outputs": [],
   "source": [
    "# # list\n",
    "# -Multiple and duplicate data\n",
    "# -Indexing\n",
    "# -Ordered\n",
    "# -Mutable"
   ]
  },
  {
   "cell_type": "code",
   "execution_count": 6,
   "id": "7b484962-4a79-4013-9c82-77dd87f74075",
   "metadata": {},
   "outputs": [
    {
     "name": "stdout",
     "output_type": "stream",
     "text": [
      "<class 'list'>\n",
      "<class 'list'>\n"
     ]
    }
   ],
   "source": [
    "l = [\"Apple\",\"Ball\",\"Cat\",\"Dog\",\"Apple\"]\n",
    "l1 = [1,2,3,4,5,6,7,8,9]\n",
    "print(type(l))\n",
    "print(type(l1))"
   ]
  },
  {
   "cell_type": "code",
   "execution_count": 12,
   "id": "6e5cc31d-1ce2-4939-83b3-c8a846f3b761",
   "metadata": {},
   "outputs": [
    {
     "name": "stdout",
     "output_type": "stream",
     "text": [
      "Apple\n",
      "['Apple', 'Ball', 'Cat', 'Dog']\n",
      "['Apple', 'Cat', 'Apple']\n"
     ]
    }
   ],
   "source": [
    "l = [\"Apple\",\"Ball\",\"Cat\",\"Dog\",\"Apple\"]\n",
    "print(l[0])\n",
    "print(l[0:4])\n",
    "print(l[0:6:2])"
   ]
  },
  {
   "cell_type": "code",
   "execution_count": 13,
   "id": "2f8c6f7c-b013-4cc5-a9b8-78541d663d62",
   "metadata": {},
   "outputs": [
    {
     "name": "stdout",
     "output_type": "stream",
     "text": [
      "['Apple', 'Ball', 'Cat', 'Dog', 'Apple']\n"
     ]
    }
   ],
   "source": [
    "l = [\"Apple\",\"Ball\",\"Cat\",\"Dog\",\"Apple\"]\n",
    "print(l)"
   ]
  },
  {
   "cell_type": "code",
   "execution_count": 14,
   "id": "afb7a94c-04e3-4131-969d-36c74faf7070",
   "metadata": {},
   "outputs": [
    {
     "name": "stdout",
     "output_type": "stream",
     "text": [
      "[1, 2, 3, 4, 5, 6]\n"
     ]
    }
   ],
   "source": [
    "# + *\n",
    "a = [1,2,3]\n",
    "b = [4,5,6]\n",
    "c = a+b\n",
    "print(c)"
   ]
  },
  {
   "cell_type": "code",
   "execution_count": 15,
   "id": "2fdc64da-e2c4-46fb-8627-a52f8092ca36",
   "metadata": {},
   "outputs": [
    {
     "name": "stdout",
     "output_type": "stream",
     "text": [
      "[1, 2, 3, 4, 5, 6, 1, 2, 3, 4, 5, 6]\n"
     ]
    }
   ],
   "source": [
    "a = [1, 2, 3, 4, 5, 6]\n",
    "print(a*2)"
   ]
  },
  {
   "cell_type": "code",
   "execution_count": 16,
   "id": "1f0567d0-1902-4f07-a3a6-c1f2645919ca",
   "metadata": {},
   "outputs": [
    {
     "data": {
      "text/plain": [
       "[]"
      ]
     },
     "execution_count": 16,
     "metadata": {},
     "output_type": "execute_result"
    }
   ],
   "source": [
    "#empty list\n",
    "l = list()\n",
    "l"
   ]
  },
  {
   "cell_type": "code",
   "execution_count": null,
   "id": "1133d205-ffd3-4bfd-b740-818fd5bbbc30",
   "metadata": {},
   "outputs": [],
   "source": [
    "# to create list\n",
    "# append() insert() extend()"
   ]
  },
  {
   "cell_type": "code",
   "execution_count": null,
   "id": "c0daaee1-9b17-4eae-8ec4-dfe401426845",
   "metadata": {},
   "outputs": [],
   "source": []
  }
 ],
 "metadata": {
  "kernelspec": {
   "display_name": "Python 3 (ipykernel)",
   "language": "python",
   "name": "python3"
  },
  "language_info": {
   "codemirror_mode": {
    "name": "ipython",
    "version": 3
   },
   "file_extension": ".py",
   "mimetype": "text/x-python",
   "name": "python",
   "nbconvert_exporter": "python",
   "pygments_lexer": "ipython3",
   "version": "3.13.1"
  }
 },
 "nbformat": 4,
 "nbformat_minor": 5
}
