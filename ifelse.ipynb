{
 "cells": [
  {
   "cell_type": "code",
   "execution_count": 1,
   "id": "aefc9e0e-bf8c-426f-acbc-b83d15f61c14",
   "metadata": {},
   "outputs": [],
   "source": [
    "# if <condition>:\n",
    "#     <operation>\n",
    "# elif <condition>:\n",
    "#     <operation>\n",
    "# else:\n",
    "#     <operation>"
   ]
  },
  {
   "cell_type": "code",
   "execution_count": 3,
   "id": "83fed4f6-f613-4ab5-9e22-b20848ad6a7b",
   "metadata": {},
   "outputs": [
    {
     "name": "stdin",
     "output_type": "stream",
     "text": [
      "Enter a =  3\n",
      "Enter b =  3\n"
     ]
    },
    {
     "name": "stdout",
     "output_type": "stream",
     "text": [
      "both are equal\n"
     ]
    }
   ],
   "source": [
    "a = int(input(\"Enter a = \"))\n",
    "b = int(input(\"Enter b = \"))\n",
    "if a>b:\n",
    "    print(a,\"is greater\")\n",
    "elif b>a:\n",
    "    print(b,\"is greater\")\n",
    "else:\n",
    "    print(\"both are equal\")"
   ]
  },
  {
   "cell_type": "code",
   "execution_count": 6,
   "id": "1f652904-8e56-4e16-b434-cade5777b7dd",
   "metadata": {},
   "outputs": [],
   "source": [
    "physics = int(input(\"Enter physics marks = \"))\n",
    "chemistry = int(input(\"Enter chemistry marks = \"))\n",
    "math = int(input(\"Enter math marks = \"))\n",
    "english = int(input(\"Enter english marks = \"))\n",
    "nepali = int(input(\"Enter nepali marks = \"))\n",
    "total = physics + chemistry + math + english + nepali\n",
    "per = total/5\n",
    "if per >= 80:\n",
    "    grade = 'A'\n",
    "elif per >= 60:\n",
    "    grade = 'B'\n",
    "elif per >= 45:\n",
    "    grade = 'C'\n",
    "else:\n",
    "    grade = 'F'\n",
    "print(\"The total = \",total)\n",
    "print(\"Per = \",per)\n",
    "print(\"Grade = \",grade)"
   ]
  },
  {
   "cell_type": "code",
   "execution_count": 7,
   "id": "02cb978a-df49-4b7b-abb1-8f6431784d64",
   "metadata": {},
   "outputs": [],
   "source": [
    "# #nested ifelse\n",
    "# if <condition>:\n",
    "#     if <condition>:\n",
    "#         <operations>\n",
    "#     else:\n",
    "#         <operations>\n",
    "# else:\n",
    "#     <operation>"
   ]
  },
  {
   "cell_type": "code",
   "execution_count": null,
   "id": "f7186fa5-9133-48c5-ac9e-a4af81d68a91",
   "metadata": {},
   "outputs": [],
   "source": [
    "# and &\n",
    "# or  |"
   ]
  },
  {
   "cell_type": "code",
   "execution_count": 8,
   "id": "87f69fb2-35bc-4c2c-af69-8125b4e91122",
   "metadata": {},
   "outputs": [
    {
     "name": "stdin",
     "output_type": "stream",
     "text": [
      "Enter physics marks =  78\n",
      "Enter chemistry marks =  89\n",
      "Enter math marks =  87\n",
      "Enter english marks =  67\n",
      "Enter nepali marks =  90\n"
     ]
    },
    {
     "name": "stdout",
     "output_type": "stream",
     "text": [
      "The total =  411\n",
      "Per =  82.2\n",
      "Grade =  A\n"
     ]
    }
   ],
   "source": [
    "physics = int(input(\"Enter physics marks = \"))\n",
    "chemistry = int(input(\"Enter chemistry marks = \"))\n",
    "math = int(input(\"Enter math marks = \"))\n",
    "english = int(input(\"Enter english marks = \"))\n",
    "nepali = int(input(\"Enter nepali marks = \"))\n",
    "\n",
    "if physics>=45 and chemistry>=45 and math>=45 and english>=45 and nepali>=45:\n",
    "    total = physics + chemistry + math + english + nepali\n",
    "    per = total/5\n",
    "    if per >= 80:\n",
    "        grade = 'A'\n",
    "    elif per >= 60:\n",
    "        grade = 'B'\n",
    "    elif per >= 45:\n",
    "        grade = 'C'\n",
    "    else:\n",
    "        grade = 'F'\n",
    "    print(\"The total = \",total)\n",
    "    print(\"Per = \",per)\n",
    "    print(\"Grade = \",grade)\n",
    "else:\n",
    "    print(\"Your grade is F\")"
   ]
  },
  {
   "cell_type": "code",
   "execution_count": 9,
   "id": "7ba84054-092d-44d8-8b7e-2c761a3f7ac3",
   "metadata": {},
   "outputs": [],
   "source": [
    "# WAP to find if any no is even or odd / +ve or -ve"
   ]
  },
  {
   "cell_type": "code",
   "execution_count": 10,
   "id": "a5c81c71-0ed5-44e8-b09a-72487697d8af",
   "metadata": {},
   "outputs": [
    {
     "name": "stdin",
     "output_type": "stream",
     "text": [
      "Enter n =  67\n"
     ]
    }
   ],
   "source": [
    "n = int(input(\"Enter n = \"))\n",
    "if n%2==0:\n",
    "    if n>=0:\n",
    "        print(n,\"is even and +ve\")\n",
    "    else:\n",
    "        print(n,\"is even and -ve\")\n",
    "else:\n",
    "    if n>=0:\n",
    "        print(n,\"is odd and +ve\")\n",
    "    else:\n",
    "        print(n,\"is odd and -ve\")"
   ]
  },
  {
   "cell_type": "code",
   "execution_count": null,
   "id": "f9fe1a26-aa59-4bed-bd7d-7488bd8c8647",
   "metadata": {},
   "outputs": [],
   "source": [
    "n = int(input(\"Enter n = \"))\n",
    "if n%2==0 and n>=0:\n",
    "        print(n,\"is even and +ve\")\n",
    "elif n%2==0 and n<0:\n",
    "        print(n,\"is even and -ve\")\n",
    "elif n%2!=0 and n>0:\n",
    "        print(n,\"is odd and +ve\")\n",
    "else:\n",
    "    print(n,\"is odd and -ve\")"
   ]
  },
  {
   "cell_type": "code",
   "execution_count": 11,
   "id": "4fda41d5-f82f-49c5-9beb-980c2b63c907",
   "metadata": {},
   "outputs": [
    {
     "data": {
      "text/plain": [
       "1"
      ]
     },
     "execution_count": 11,
     "metadata": {},
     "output_type": "execute_result"
    }
   ],
   "source": [
    "# WAP to create a basic calculator\n",
    "# a - ?\n",
    "# b - ?\n",
    "# o - ?\n",
    "# + - * /"
   ]
  },
  {
   "cell_type": "code",
   "execution_count": null,
   "id": "338acd32-3e26-4782-9f98-61c47d3e0c34",
   "metadata": {},
   "outputs": [],
   "source": []
  }
 ],
 "metadata": {
  "kernelspec": {
   "display_name": "Python 3 (ipykernel)",
   "language": "python",
   "name": "python3"
  },
  "language_info": {
   "codemirror_mode": {
    "name": "ipython",
    "version": 3
   },
   "file_extension": ".py",
   "mimetype": "text/x-python",
   "name": "python",
   "nbconvert_exporter": "python",
   "pygments_lexer": "ipython3",
   "version": "3.11.7"
  }
 },
 "nbformat": 4,
 "nbformat_minor": 5
}
