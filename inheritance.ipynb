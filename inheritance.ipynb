{
 "cells": [
  {
   "cell_type": "code",
   "execution_count": 1,
   "id": "47f032c5-43dd-4bf8-9dac-526a4fb274c6",
   "metadata": {},
   "outputs": [],
   "source": [
    "# class A:            #parent\n",
    "#     pass\n",
    "\n",
    "# class B(A):         #child\n",
    "#     pass\n",
    "\n",
    "# obj = B(A)"
   ]
  },
  {
   "cell_type": "code",
   "execution_count": 3,
   "id": "2f58ed94-596c-48ea-9e06-f8f8d8aa29ab",
   "metadata": {},
   "outputs": [
    {
     "name": "stdin",
     "output_type": "stream",
     "text": [
      "Enter name =  Ram\n",
      "Enter add =  Kathmandu\n",
      "Enter age =  23\n"
     ]
    },
    {
     "data": {
      "text/plain": [
       "'Hello World I am Ram. I am from Kathmandu. I am 23'"
      ]
     },
     "execution_count": 3,
     "metadata": {},
     "output_type": "execute_result"
    }
   ],
   "source": [
    "class Data:\n",
    "    def __init__(self):\n",
    "        self.name = input(\"Enter name = \")\n",
    "        self.add = input(\"Enter add = \")\n",
    "        self.age = int(input(\"Enter age = \"))\n",
    "    def my_data(self):\n",
    "        print(self.name,self.age,self.add)\n",
    "\n",
    "class Info(Data):\n",
    "    def my_info(self):\n",
    "        return f\"Hello World I am {self.name}. I am from {self.add}. I am {self.age}\"\n",
    "\n",
    "obj = Info()\n",
    "print(obj.my_info())\n",
    "obj.my_data()"
   ]
  },
  {
   "cell_type": "code",
   "execution_count": 4,
   "id": "311993a7-e512-49c7-aaca-7128df2914ac",
   "metadata": {},
   "outputs": [
    {
     "name": "stdin",
     "output_type": "stream",
     "text": [
      "Enter phone =  9808778765\n",
      "Enter name =  Ram\n",
      "Enter add =  Kathmandu\n",
      "Enter age =  45\n"
     ]
    },
    {
     "name": "stdout",
     "output_type": "stream",
     "text": [
      "Hello World I am Ram. I am from Kathmandu. I am 45. My phone no is 9808778765\n",
      "Ram 45 Kathmandu\n"
     ]
    }
   ],
   "source": [
    "class Data:\n",
    "    def __init__(self):\n",
    "        self.add = input(\"Enter add = \")\n",
    "        self.age = int(input(\"Enter age = \"))\n",
    "        self.phone = input(\"Enter phone = \")\n",
    "\n",
    "    def my_data(self):\n",
    "        print(self.name,self.age,self.add)\n",
    "\n",
    "class Info(Data):\n",
    "    def __init__(self):\n",
    "        self.name = input(\"Enter name = \")\n",
    "        Data.__init__(self)\n",
    "        \n",
    "    def my_info(self):\n",
    "        return f\"Hello World I am {self.name}. I am from {self.add}. I am {self.age}. My phone no is {self.phone}\"\n",
    "\n",
    "obj = Info()\n",
    "print(obj.my_info())\n",
    "obj.my_data()"
   ]
  },
  {
   "cell_type": "code",
   "execution_count": 5,
   "id": "1bf14f6b-a1dd-48ff-900b-713dbfdca1d9",
   "metadata": {},
   "outputs": [],
   "source": [
    "# # multilevel\n",
    "# class A:\n",
    "#     pass\n",
    "# class B(A):\n",
    "#     pass\n",
    "# class C(B):\n",
    "#     pass\n",
    "\n",
    "# obj = C()"
   ]
  },
  {
   "cell_type": "code",
   "execution_count": 7,
   "id": "2952d9cc-020d-4cc1-adf6-d7067017d95a",
   "metadata": {},
   "outputs": [],
   "source": [
    "#multiple\n",
    "# class A:\n",
    "#     pass\n",
    "# class B:\n",
    "#     pass\n",
    "# class C(A,B):\n",
    "#     pass\n",
    "\n",
    "# obj = C()"
   ]
  },
  {
   "cell_type": "code",
   "execution_count": 8,
   "id": "e1107763-61f5-45d9-82ef-b6b46cb4f37a",
   "metadata": {},
   "outputs": [
    {
     "name": "stdin",
     "output_type": "stream",
     "text": [
      "Enter name =  Ram\n",
      "Enter add =  Kathmandu\n",
      "Enter age =  34\n",
      "Enter phone =  980878765\n"
     ]
    }
   ],
   "source": [
    "class Main:\n",
    "    def __init__(self,phone):\n",
    "        self.phone = phone\n",
    "\n",
    "class Data(Main):\n",
    "    def __init__(self,add,phone):\n",
    "        self.add = add\n",
    "        Main.__init__(self,phone)\n",
    "\n",
    "    def my_data(self):\n",
    "        print(self.add)\n",
    "\n",
    "class Info(Data):\n",
    "    def __init__(self,name,age,add,phone):\n",
    "        self.name = name\n",
    "        self.age = age\n",
    "        Data.__init__(self,add,phone)\n",
    "        \n",
    "    def my_info(self):\n",
    "        return f\"Hello World I am {self.name}. I am from {self.add}. I am {self.age}. My phone no is {self.phone}\"\n",
    "        \n",
    "name = input(\"Enter name = \") \n",
    "add = input(\"Enter add = \")\n",
    "age = int(input(\"Enter age = \"))\n",
    "phone = input(\"Enter phone = \")\n",
    "obj = Info(name,age,add,phone)\n",
    "obj.my_info()"
   ]
  },
  {
   "cell_type": "code",
   "execution_count": 2,
   "id": "370d9c70-a200-4fee-bde5-e56519f95142",
   "metadata": {},
   "outputs": [
    {
     "name": "stdin",
     "output_type": "stream",
     "text": [
      "Enter name =  Ram\n",
      "Enter add =  Kathmandu\n",
      "Enter age =  78\n",
      "Enter phone =  9808667654\n"
     ]
    },
    {
     "data": {
      "text/plain": [
       "'Hello World I am Ram. I am from Kathmandu. I am 78. My phone no is 9808667654'"
      ]
     },
     "execution_count": 2,
     "metadata": {},
     "output_type": "execute_result"
    }
   ],
   "source": [
    "#multiclass\n",
    "class Main:\n",
    "    def __init__(self,phone):\n",
    "        self.phone = phone\n",
    "\n",
    "class Data:\n",
    "    def __init__(self,add):\n",
    "        self.add = add\n",
    "\n",
    "    def my_data(self):\n",
    "        print(self.add)\n",
    "\n",
    "class Info(Main,Data):\n",
    "    def __init__(self,name,age,add,phone):\n",
    "        self.name = name\n",
    "        self.age = age\n",
    "        Data.__init__(self,add)\n",
    "        Main.__init__(self,phone)\n",
    "        \n",
    "    def my_info(self):\n",
    "        return f\"Hello World I am {self.name}. I am from {self.add}. I am {self.age}. My phone no is {self.phone}\"\n",
    "        \n",
    "name = input(\"Enter name = \") \n",
    "add = input(\"Enter add = \")\n",
    "age = int(input(\"Enter age = \"))\n",
    "phone = input(\"Enter phone = \")\n",
    "obj = Info(name,age,add,phone)\n",
    "obj.my_info()"
   ]
  },
  {
   "cell_type": "code",
   "execution_count": 3,
   "id": "be49d9bc-9225-4e79-96ff-2803877db208",
   "metadata": {},
   "outputs": [],
   "source": [
    "# private,public,protected"
   ]
  },
  {
   "cell_type": "code",
   "execution_count": 4,
   "id": "db57d332-8beb-4ed0-87a4-55d74ec2375e",
   "metadata": {},
   "outputs": [
    {
     "name": "stdout",
     "output_type": "stream",
     "text": [
      "Ram 34 Kathmandu\n"
     ]
    }
   ],
   "source": [
    "#public\n",
    "class Info:\n",
    "    def __init__(self,name,age,add):\n",
    "        self.name = name\n",
    "        self.age = age\n",
    "        self.add = add\n",
    "\n",
    "obj = Info(\"Ram\",34,\"Kathmandu\")\n",
    "print(obj.name,obj.age,obj.add)"
   ]
  },
  {
   "cell_type": "code",
   "execution_count": 6,
   "id": "ef5dd444-60ed-4614-93ae-987354b52d19",
   "metadata": {},
   "outputs": [
    {
     "name": "stdout",
     "output_type": "stream",
     "text": [
      "Ram 34 Kathmandu\n"
     ]
    }
   ],
   "source": [
    "#protected\n",
    "class Info:\n",
    "    def __init__(self,name,age,add):\n",
    "        self._name = name\n",
    "        self._age = age\n",
    "        self._add = add\n",
    "\n",
    "obj = Info(\"Ram\",34,\"Kathmandu\")\n",
    "print(obj._name,obj._age,obj._add)"
   ]
  },
  {
   "cell_type": "code",
   "execution_count": 7,
   "id": "c88103be-11ca-4c25-b25e-46630534083f",
   "metadata": {},
   "outputs": [
    {
     "ename": "AttributeError",
     "evalue": "'Info' object has no attribute '__name'",
     "output_type": "error",
     "traceback": [
      "\u001b[1;31m---------------------------------------------------------------------------\u001b[0m",
      "\u001b[1;31mAttributeError\u001b[0m                            Traceback (most recent call last)",
      "Cell \u001b[1;32mIn[7], line 9\u001b[0m\n\u001b[0;32m      6\u001b[0m         \u001b[38;5;28mself\u001b[39m\u001b[38;5;241m.\u001b[39m__add \u001b[38;5;241m=\u001b[39m add\n\u001b[0;32m      8\u001b[0m obj \u001b[38;5;241m=\u001b[39m Info(\u001b[38;5;124m\"\u001b[39m\u001b[38;5;124mRam\u001b[39m\u001b[38;5;124m\"\u001b[39m,\u001b[38;5;241m34\u001b[39m,\u001b[38;5;124m\"\u001b[39m\u001b[38;5;124mKathmandu\u001b[39m\u001b[38;5;124m\"\u001b[39m)\n\u001b[1;32m----> 9\u001b[0m \u001b[38;5;28mprint\u001b[39m(\u001b[43mobj\u001b[49m\u001b[38;5;241;43m.\u001b[39;49m\u001b[43m__name\u001b[49m,obj\u001b[38;5;241m.\u001b[39m__age,obj\u001b[38;5;241m.\u001b[39m__add)\n",
      "\u001b[1;31mAttributeError\u001b[0m: 'Info' object has no attribute '__name'"
     ]
    }
   ],
   "source": [
    "#private\n",
    "class Info:\n",
    "    def __init__(self,name,age,add):\n",
    "        self.__name = name\n",
    "        self.__age = age\n",
    "        self.__add = add\n",
    "\n",
    "obj = Info(\"Ram\",34,\"Kathmandu\")\n",
    "print(obj.__name,obj.__age,obj.__add)"
   ]
  },
  {
   "cell_type": "code",
   "execution_count": null,
   "id": "b1c03e9e-76af-42aa-a33a-05a82fe5d047",
   "metadata": {},
   "outputs": [],
   "source": [
    "class Data:\n",
    "    def __init__(self):\n",
    "        self.name = input(\"Enter name = \")           #public\n",
    "        self._add = input(\"Enter add = \")            #protected\n",
    "        self.__age = int(input(\"Enter age = \"))      #private\n",
    "    def my_data(self):\n",
    "        print(self.name,self.__age,self._add)\n",
    "\n",
    "class Info(Data):\n",
    "    def my_info(self):\n",
    "        return f\"Hello World I am {self.name}. I am from {self._add}.\"\n",
    "\n",
    "obj = Info()\n",
    "print(obj.my_info())\n",
    "obj.my_data()\n",
    "print(obj.name)"
   ]
  },
  {
   "cell_type": "code",
   "execution_count": 8,
   "id": "3752a3c2-57a2-4109-be7b-9ffc2adc3345",
   "metadata": {},
   "outputs": [
    {
     "name": "stdout",
     "output_type": "stream",
     "text": [
      "Parrot can fly\n",
      "Penguin can't fly\n"
     ]
    }
   ],
   "source": [
    "class Parrot:\n",
    "    def fly(self):\n",
    "        print(\"Parrot can fly\")\n",
    "\n",
    "    def swim(self):\n",
    "        print(\"Parrot can't swim\")\n",
    "\n",
    "class Penguin:\n",
    "    def fly(self):\n",
    "        print(\"Penguin can't fly\")\n",
    "\n",
    "    def swim(self):\n",
    "        print(\"Penguin can swim\")\n",
    "\n",
    "# common interface\n",
    "def flying_test(bird):\n",
    "    bird.fly()\n",
    "#instantiate objects\n",
    "blu = Parrot()\n",
    "peggy = Penguin()\n",
    "# passing the object\n",
    "flying_test(blu)\n",
    "flying_test(peggy)"
   ]
  },
  {
   "cell_type": "code",
   "execution_count": 10,
   "id": "5077d952-5131-4a41-bc8c-41406c6201b3",
   "metadata": {},
   "outputs": [
    {
     "name": "stdout",
     "output_type": "stream",
     "text": [
      "Ram 34 Kathmandu\n",
      "Ram\n",
      "<class '__main__.Info'>\n"
     ]
    }
   ],
   "source": [
    "#public\n",
    "#__str__\n",
    "class Info:\n",
    "    def __init__(self,name,age,add):\n",
    "        self.name = name\n",
    "        self.age = age\n",
    "        self.add = add\n",
    "        \n",
    "    def __str__(self):\n",
    "        return self.name\n",
    "\n",
    "obj = Info(\"Ram\",34,\"Kathmandu\")\n",
    "print(obj.name,obj.age,obj.add)\n",
    "print(obj)\n",
    "print(type(obj))"
   ]
  },
  {
   "cell_type": "code",
   "execution_count": null,
   "id": "eed862f8-e5c8-4409-804e-8e5e71428669",
   "metadata": {},
   "outputs": [],
   "source": []
  }
 ],
 "metadata": {
  "kernelspec": {
   "display_name": "Python 3 (ipykernel)",
   "language": "python",
   "name": "python3"
  },
  "language_info": {
   "codemirror_mode": {
    "name": "ipython",
    "version": 3
   },
   "file_extension": ".py",
   "mimetype": "text/x-python",
   "name": "python",
   "nbconvert_exporter": "python",
   "pygments_lexer": "ipython3",
   "version": "3.13.1"
  }
 },
 "nbformat": 4,
 "nbformat_minor": 5
}
