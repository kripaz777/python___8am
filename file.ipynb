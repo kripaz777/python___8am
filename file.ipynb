{
 "cells": [
  {
   "cell_type": "code",
   "execution_count": 1,
   "id": "629c8507-f3cb-4edb-8b3d-2e1898b5e767",
   "metadata": {},
   "outputs": [],
   "source": [
    "# # file\n",
    "# modes\n",
    "# r ->read\n",
    "# w ->write\n",
    "# x ->create\n",
    "# a ->append\n",
    "\n",
    "# file = open('<file_name>','mode')\n",
    "# file.close()\n",
    "\n",
    "# with open(<file_name>,<mode>):\n",
    "#     <operations>"
   ]
  },
  {
   "cell_type": "code",
   "execution_count": 4,
   "id": "22af7c29-f46c-4cd9-b604-4e3b3899c6b4",
   "metadata": {},
   "outputs": [
    {
     "name": "stdout",
     "output_type": "stream",
     "text": [
      "The file is already there\n"
     ]
    }
   ],
   "source": [
    "try:\n",
    "    file = open('data.txt','x')\n",
    "    file.close()\n",
    "except:\n",
    "    print(\"The file is already there\")"
   ]
  },
  {
   "cell_type": "code",
   "execution_count": 5,
   "id": "a8661a1a-0c20-4ad7-95f5-5ceab6a5280d",
   "metadata": {},
   "outputs": [
    {
     "data": {
      "text/plain": [
       "['.ipynb_checkpoints',\n",
       " 'data.txt',\n",
       " 'file.ipynb',\n",
       " 'first_class.ipynb',\n",
       " 'function.ipynb',\n",
       " 'ifelse.ipynb',\n",
       " 'list.ipynb',\n",
       " 'loop.ipynb',\n",
       " 'tuple and set.ipynb']"
      ]
     },
     "execution_count": 5,
     "metadata": {},
     "output_type": "execute_result"
    }
   ],
   "source": [
    "import os\n",
    "os.listdir()"
   ]
  },
  {
   "cell_type": "code",
   "execution_count": 6,
   "id": "364bea1a-3fcd-452b-b900-bc73a53b0443",
   "metadata": {},
   "outputs": [],
   "source": [
    "#write\n",
    "file = open('data.txt','w')\n",
    "file.write('Hello Wolrd')\n",
    "file.close()"
   ]
  },
  {
   "cell_type": "code",
   "execution_count": 8,
   "id": "82e4e72f-976c-4718-8b9e-30997529b6bb",
   "metadata": {},
   "outputs": [
    {
     "name": "stdout",
     "output_type": "stream",
     "text": [
      "Hello Wolrd\n"
     ]
    }
   ],
   "source": [
    "#read\n",
    "file = open('data.txt','r')\n",
    "print(file.read())\n",
    "file.close()"
   ]
  },
  {
   "cell_type": "code",
   "execution_count": 15,
   "id": "e16b626b-b8e1-4e50-b561-67f8b3d239b1",
   "metadata": {},
   "outputs": [],
   "source": [
    "#write\n",
    "file = open('data.txt','w')\n",
    "file.write(\"\"\"sn,name,age,add,phone\n",
    "1,Ram,34,Kathmandu,9808778765\n",
    "2,Shyam,45,Bhaktapur,9867667654\n",
    "3,Hari,23,Lalitpur,9878778765\n",
    "4,Nabin,45,Jhapa,9878445654\n",
    "5,Sabin,32,Kathmandu,9867005643\n",
    "6,Akash,33,Jhapa,9856778765\"\"\")\n",
    "file.close()"
   ]
  },
  {
   "cell_type": "code",
   "execution_count": 16,
   "id": "0d11a7d2-d3a6-40d8-a2e2-5892aeaeeae0",
   "metadata": {},
   "outputs": [
    {
     "name": "stdout",
     "output_type": "stream",
     "text": [
      "sn,name,age,add,phone\n",
      "1,Ram,34,Kathmandu,9808778765\n",
      "2,Shyam,45,Bhaktapur,9867667654\n",
      "3,Hari,23,Lalitpur,9878778765\n",
      "4,Nabin,45,Jhapa,9878445654\n",
      "5,Sabin,32,Kathmandu,9867005643\n",
      "6,Akash,33,Jhapa,9856778765\n"
     ]
    }
   ],
   "source": [
    "file = open('data.txt','r')\n",
    "data = file.read()\n",
    "print(data)\n",
    "file.close()"
   ]
  },
  {
   "cell_type": "code",
   "execution_count": 26,
   "id": "bbd07a37-bf00-40f3-8c0b-71377c180eaa",
   "metadata": {},
   "outputs": [
    {
     "data": {
      "text/plain": [
       "['sn,name,age,add,phone',\n",
       " '1,Ram,34,Kathmandu,9808778765',\n",
       " '2,Shyam,45,Bhaktapur,9867667654',\n",
       " '3,Hari,23,Lalitpur,9878778765',\n",
       " '4,Nabin,45,Jhapa,9878445654',\n",
       " '5,Sabin,32,Kathmandu,9867005643',\n",
       " '6,Akash,33,Jhapa,9856778765']"
      ]
     },
     "execution_count": 26,
     "metadata": {},
     "output_type": "execute_result"
    }
   ],
   "source": [
    "list_data = data.split('\\n')\n",
    "list_data"
   ]
  },
  {
   "cell_type": "code",
   "execution_count": 28,
   "id": "a63399ea-a8b5-41d7-94c9-85f5f06623eb",
   "metadata": {},
   "outputs": [
    {
     "data": {
      "text/plain": [
       "[['sn', 'name', 'age', 'add', 'phone'],\n",
       " [1, 'Ram', 34, 'Kathmandu', '9808778765'],\n",
       " [2, 'Shyam', 45, 'Bhaktapur', '9867667654'],\n",
       " [3, 'Hari', 23, 'Lalitpur', '9878778765'],\n",
       " [4, 'Nabin', 45, 'Jhapa', '9878445654'],\n",
       " [5, 'Sabin', 32, 'Kathmandu', '9867005643'],\n",
       " [6, 'Akash', 33, 'Jhapa', '9856778765']]"
      ]
     },
     "execution_count": 28,
     "metadata": {},
     "output_type": "execute_result"
    }
   ],
   "source": [
    "final_data = []\n",
    "for i in list_data:\n",
    "    z = i.split(',')\n",
    "    try:\n",
    "        z[2] = int(z[2])\n",
    "        z[0] = int(z[])\n",
    "        final_data.append(z)\n",
    "        \n",
    "    except:\n",
    "        final_data.append(z)\n",
    "\n",
    "\n",
    "final_data"
   ]
  },
  {
   "cell_type": "code",
   "execution_count": 29,
   "id": "bef7302d-442e-47df-a3e8-69be52ba9092",
   "metadata": {},
   "outputs": [
    {
     "name": "stdin",
     "output_type": "stream",
     "text": [
      "Enter name for search  Ram\n"
     ]
    },
    {
     "name": "stdout",
     "output_type": "stream",
     "text": [
      "[1, 'Ram', 34, 'Kathmandu', '9808778765']\n"
     ]
    }
   ],
   "source": [
    "name = input(\"Enter name for search \")\n",
    "for i in final_data:\n",
    "    if i[1] == name:\n",
    "        print(i)"
   ]
  },
  {
   "cell_type": "code",
   "execution_count": 30,
   "id": "2bc66b24-0eb5-485e-8668-a033d66700b7",
   "metadata": {},
   "outputs": [
    {
     "data": {
      "text/plain": [
       "'C:\\\\Users\\\\Aayush\\\\Python8am'"
      ]
     },
     "execution_count": 30,
     "metadata": {},
     "output_type": "execute_result"
    }
   ],
   "source": [
    "pwd"
   ]
  },
  {
   "cell_type": "code",
   "execution_count": 31,
   "id": "a619d367-290e-44da-92da-cde18056dc13",
   "metadata": {},
   "outputs": [],
   "source": [
    "#write\n",
    "file = open('data.csv','w')\n",
    "file.write(\"\"\"sn,name,age,add,phone\n",
    "1,Ram,34,Kathmandu,9808778765\n",
    "2,Shyam,45,Bhaktapur,9867667654\n",
    "3,Hari,23,Lalitpur,9878778765\n",
    "4,Nabin,45,Jhapa,9878445654\n",
    "5,Sabin,32,Kathmandu,9867005643\n",
    "6,Akash,33,Jhapa,9856778765\"\"\")\n",
    "file.close()"
   ]
  },
  {
   "cell_type": "code",
   "execution_count": 32,
   "id": "4c8d6ce7-f50f-4e2c-8a91-867f6746ab3b",
   "metadata": {},
   "outputs": [
    {
     "data": {
      "text/plain": [
       "'C:\\\\Users\\\\Aayush\\\\Python8am'"
      ]
     },
     "execution_count": 32,
     "metadata": {},
     "output_type": "execute_result"
    }
   ],
   "source": [
    "pwd"
   ]
  },
  {
   "cell_type": "code",
   "execution_count": 34,
   "id": "8ef37a8b-f225-4bfb-9f7c-b949a429836b",
   "metadata": {},
   "outputs": [
    {
     "name": "stdin",
     "output_type": "stream",
     "text": [
      "Enter n =  2\n",
      "Enter name =  Apple\n",
      "Enter price =  300\n",
      "Enter qty =  3\n",
      "Enter name =  Banana\n",
      "Enter price =  100\n",
      "Enter qty =  4\n"
     ]
    },
    {
     "name": "stdout",
     "output_type": "stream",
     "text": [
      "Apple,300.0,3.0,900.0\n",
      "Banana,100.0,4.0,400.0\n",
      "\n"
     ]
    }
   ],
   "source": [
    "#write mood\n",
    "bill = \"\"\n",
    "n = int(input(\"Enter n = \"))\n",
    "for i in range(n):\n",
    "    name = input(\"Enter name = \")\n",
    "    price = float(input(\"Enter price = \"))\n",
    "    qty = float(input(\"Enter qty = \"))\n",
    "    total = price * qty\n",
    "    data = f\"{name},{price},{qty},{total}\\n\"\n",
    "    bill = bill + data\n",
    "    \n",
    "print(bill)\n",
    "#write\n",
    "file = open('bill.csv','w')\n",
    "file.write('name,price,qty,total\\n')\n",
    "file.write(bill)\n",
    "file.close()"
   ]
  },
  {
   "cell_type": "code",
   "execution_count": 37,
   "id": "1e94fd59-0040-4221-b3bf-47c1a86e5eff",
   "metadata": {},
   "outputs": [
    {
     "name": "stdin",
     "output_type": "stream",
     "text": [
      "Enter n =  1\n",
      "Enter customer name =  Ram\n",
      "Enter name =  Apple\n",
      "Enter price =  200\n",
      "Enter qty =  3\n"
     ]
    },
    {
     "name": "stdout",
     "output_type": "stream",
     "text": [
      "Ram,Apple,200.0,3.0,600.0,Wed Jan  8 09:30:37 2025\n",
      "\n"
     ]
    }
   ],
   "source": [
    "#write mood\n",
    "import datetime\n",
    "x = datetime.datetime.now()\n",
    "date_time = x.strftime(\"%c\")\n",
    "bill = \"\"\n",
    "n = int(input(\"Enter n = \"))\n",
    "customer_name = input(\"Enter customer name = \")\n",
    "for i in range(n):\n",
    "\n",
    "    name = input(\"Enter name = \")\n",
    "    price = float(input(\"Enter price = \"))\n",
    "    qty = float(input(\"Enter qty = \"))\n",
    "    total = price * qty\n",
    "    data = f\"{customer_name},{name},{price},{qty},{total},{date_time}\\n\"\n",
    "    bill = bill + data\n",
    "    \n",
    "print(bill)\n",
    "#write\n",
    "file = open('bills.csv','a')\n",
    "file.write('customer_name,name,price,qty,total,date_time\\n')\n",
    "file.write(bill)\n",
    "file.close()"
   ]
  },
  {
   "cell_type": "code",
   "execution_count": null,
   "id": "7acc2546-aac4-42b6-ba0d-3702d423f475",
   "metadata": {},
   "outputs": [],
   "source": []
  }
 ],
 "metadata": {
  "kernelspec": {
   "display_name": "Python 3 (ipykernel)",
   "language": "python",
   "name": "python3"
  },
  "language_info": {
   "codemirror_mode": {
    "name": "ipython",
    "version": 3
   },
   "file_extension": ".py",
   "mimetype": "text/x-python",
   "name": "python",
   "nbconvert_exporter": "python",
   "pygments_lexer": "ipython3",
   "version": "3.11.7"
  }
 },
 "nbformat": 4,
 "nbformat_minor": 5
}
